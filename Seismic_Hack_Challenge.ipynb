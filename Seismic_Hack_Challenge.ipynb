{
 "cells": [
  {
   "cell_type": "code",
   "execution_count": 7,
   "metadata": {},
   "outputs": [],
   "source": [
    "import json\n",
    "import pandas as pd\n",
    "import numpy as np\n",
    "from pprint import pprint\n",
    "\n",
    "with open('data01.INT.json') as f:\n",
    "    data = json.load(f)"
   ]
  },
  {
   "cell_type": "code",
   "execution_count": 8,
   "metadata": {},
   "outputs": [],
   "source": [
    "df = pd.DataFrame(data)"
   ]
  },
  {
   "cell_type": "code",
   "execution_count": 10,
   "metadata": {},
   "outputs": [
    {
     "data": {
      "text/plain": [
       "[{'Id': '09093e0f-d2c7-4a8c-a245-c7960f78811b',\n",
       "  'Name': 'Yong Hsiung',\n",
       "  'Address': '1941 Pin Oak Drive',\n",
       "  'City': 'Davenport',\n",
       "  'State': 'IA',\n",
       "  'Zip': '52803',\n",
       "  'SSN': '484-70-4050',\n",
       "  'Location': '41.573415, -90.470042',\n",
       "  'Phone': '563-333-3230',\n",
       "  'CountryCode': '1',\n",
       "  'DOB': 'February 16, 1992',\n",
       "  'Email': 'JosephMYounkin@teleworm.us',\n",
       "  'UserName': 'Endind',\n",
       "  'Website': 'sikaban.com',\n",
       "  'Company': 'Flagg Bros. Shoes',\n",
       "  'Occupation': 'Image designer',\n",
       "  'HeightCM': '168',\n",
       "  'WeightKG': None,\n",
       "  'BloodType': 'O+',\n",
       "  'Vehicle': None,\n",
       "  'Color': 'Blue'}]"
      ]
     },
     "execution_count": 10,
     "metadata": {},
     "output_type": "execute_result"
    }
   ],
   "source": [
    "data"
   ]
  },
  {
   "cell_type": "code",
   "execution_count": null,
   "metadata": {},
   "outputs": [],
   "source": []
  }
 ],
 "metadata": {
  "kernelspec": {
   "display_name": "Python 3",
   "language": "python",
   "name": "python3"
  },
  "language_info": {
   "codemirror_mode": {
    "name": "ipython",
    "version": 3
   },
   "file_extension": ".py",
   "mimetype": "text/x-python",
   "name": "python",
   "nbconvert_exporter": "python",
   "pygments_lexer": "ipython3",
   "version": "3.7.2"
  }
 },
 "nbformat": 4,
 "nbformat_minor": 2
}
